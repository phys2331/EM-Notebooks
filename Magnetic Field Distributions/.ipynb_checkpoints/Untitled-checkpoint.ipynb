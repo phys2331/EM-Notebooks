{
 "cells": [
  {
   "cell_type": "code",
   "execution_count": 1,
   "metadata": {},
   "outputs": [],
   "source": [
    "import numpy as np\n",
    "import sympy as sp\n",
    "from scipy.constants import *\n",
    "import matplotlib.pyplot as plt\n",
    "from mpl_toolkits.mplot3d import Axes3D\n",
    "import ChargeDistribution as charge"
   ]
  },
  {
   "cell_type": "code",
   "execution_count": 2,
   "metadata": {
    "jupyter": {
     "source_hidden": true
    }
   },
   "outputs": [
    {
     "data": {
      "text/plain": [
       "\"\\nlineCharge = charge.LineCharge(10,0.4)\\n\\nfig = plt.figure()\\nax = fig.add_subplot(111, projection='3d')\\nax.scatter(lineCharge.segments[:,0],lineCharge.segments[:,1],lineCharge.segments[:,2])\\nplt.show()\\n\\nloopCharge = charge.LoopCharge(10, sp.pi/16)\\n\\nfig = plt.figure()\\nax = fig.add_subplot(111, projection='3d')\\nax.scatter(loopCharge.segments[:,0],loopCharge.segments[:,1],loopCharge.segments[:,2])\\nplt.show()\\n\\nsolenoid = charge.Solenoid(10, 20, 2, sp.pi/16)   \\n\\nfig = plt.figure()\\nax = fig.add_subplot(111, projection='3d')\\nax.scatter(solenoid.segments[:,0],solenoid.segments[:,1],solenoid.segments[:,2])\\nplt.show()\\n\""
      ]
     },
     "execution_count": 2,
     "metadata": {},
     "output_type": "execute_result"
    }
   ],
   "source": [
    "'''\n",
    "lineCharge = charge.LineCharge(10,0.4)\n",
    "\n",
    "fig = plt.figure()\n",
    "ax = fig.add_subplot(111, projection='3d')\n",
    "ax.scatter(lineCharge.segments[:,0],lineCharge.segments[:,1],lineCharge.segments[:,2])\n",
    "plt.show()\n",
    "\n",
    "loopCharge = charge.LoopCharge(10, sp.pi/16)\n",
    "\n",
    "fig = plt.figure()\n",
    "ax = fig.add_subplot(111, projection='3d')\n",
    "ax.scatter(loopCharge.segments[:,0],loopCharge.segments[:,1],loopCharge.segments[:,2])\n",
    "plt.show()\n",
    "\n",
    "solenoid = charge.Solenoid(10, 20, 2, sp.pi/16)   \n",
    "\n",
    "fig = plt.figure()\n",
    "ax = fig.add_subplot(111, projection='3d')\n",
    "ax.scatter(solenoid.segments[:,0],solenoid.segments[:,1],solenoid.segments[:,2])\n",
    "plt.show()\n",
    "'''"
   ]
  },
  {
   "cell_type": "code",
   "execution_count": 3,
   "metadata": {},
   "outputs": [],
   "source": [
    "# Biot-Savart Law\n",
    "def dB(curr, dL, r_hat, r_mag):\n",
    "  return (mu_0/(4*pi))*curr*(np.cross(dL,r_hat)/(r_mag**2))"
   ]
  },
  {
   "cell_type": "code",
   "execution_count": 4,
   "metadata": {},
   "outputs": [
    {
     "ename": "TypeError",
     "evalue": "'function' object is not subscriptable",
     "output_type": "error",
     "traceback": [
      "\u001b[0;31m---------------------------------------------------------------------------\u001b[0m",
      "\u001b[0;31mTypeError\u001b[0m                                 Traceback (most recent call last)",
      "\u001b[0;32m<ipython-input-4-5e632ac49b25>\u001b[0m in \u001b[0;36m<module>\u001b[0;34m\u001b[0m\n\u001b[1;32m     26\u001b[0m         \u001b[0mB_l\u001b[0m\u001b[0;34m[\u001b[0m\u001b[0ml\u001b[0m\u001b[0;34m]\u001b[0m \u001b[0;34m=\u001b[0m \u001b[0mdB\u001b[0m\u001b[0;34m(\u001b[0m\u001b[0mcurrent\u001b[0m\u001b[0;34m[\u001b[0m\u001b[0ml\u001b[0m\u001b[0;34m]\u001b[0m\u001b[0;34m,\u001b[0m\u001b[0mdL\u001b[0m\u001b[0;34m,\u001b[0m\u001b[0mr_hat\u001b[0m\u001b[0;34m,\u001b[0m\u001b[0mr_mag\u001b[0m\u001b[0;34m)\u001b[0m\u001b[0;34m\u001b[0m\u001b[0;34m\u001b[0m\u001b[0m\n\u001b[1;32m     27\u001b[0m \u001b[0;34m\u001b[0m\u001b[0m\n\u001b[0;32m---> 28\u001b[0;31m       \u001b[0mB_diff\u001b[0m\u001b[0;34m[\u001b[0m\u001b[0mi\u001b[0m\u001b[0;34m,\u001b[0m\u001b[0mj\u001b[0m\u001b[0;34m,\u001b[0m\u001b[0mk\u001b[0m\u001b[0;34m]\u001b[0m \u001b[0;34m=\u001b[0m \u001b[0mnp\u001b[0m\u001b[0;34m.\u001b[0m\u001b[0msum\u001b[0m\u001b[0;34m[\u001b[0m\u001b[0mB_l\u001b[0m\u001b[0;34m]\u001b[0m\u001b[0;34m\u001b[0m\u001b[0;34m\u001b[0m\u001b[0m\n\u001b[0m",
      "\u001b[0;31mTypeError\u001b[0m: 'function' object is not subscriptable"
     ]
    }
   ],
   "source": [
    "radius = 10\n",
    "loopCharge = charge.LoopCharge(radius,sp.pi/16)\n",
    "current = 1*(loopCharge.segments)\n",
    "\n",
    "n_steps = 100\n",
    "\n",
    "vol_x = np.linspace(-radius,radius, num=n_steps, endpoint=True)\n",
    "vol_y = np.linspace(-radius,radius, num=n_steps, endpoint=True)\n",
    "vol_z = np.linspace(0,2*radius, num=n_steps, endpoint=True)\n",
    "vol = np.array([vol_x, \n",
    "                vol_y, \n",
    "                vol_z])\n",
    "\n",
    "B_l=np.empty([loopCharge.segmentCount,3])\n",
    "B_diff=np.empty(vol.shape)\n",
    "\n",
    "# for every point with in a volume, do stuff\n",
    "for i in range(0,vol.shape[0]):\n",
    "  for j in range(0,vol.shape[1]):\n",
    "    for l in range(1,loopCharge.segmentCount):\n",
    "      dL = current[l] - current[l-1]\n",
    "      r = [i,j,k]\n",
    "      r_mag = np.linalg.norm(r)\n",
    "      r_hat = r/r_mag\n",
    "      B_l[l] = dB(current[l],dL,r_hat,r_mag)\n",
    "\n",
    "    B_diff[] = np.sum[B_l]"
   ]
  },
  {
   "cell_type": "code",
   "execution_count": 15,
   "metadata": {},
   "outputs": [
    {
     "data": {
      "text/plain": [
       "array([[-10.        , -10.        ,   0.        ],\n",
       "       [ -9.7979798 ,  -9.7979798 ,   0.2020202 ],\n",
       "       [ -9.5959596 ,  -9.5959596 ,   0.4040404 ],\n",
       "       [ -9.39393939,  -9.39393939,   0.60606061],\n",
       "       [ -9.19191919,  -9.19191919,   0.80808081],\n",
       "       [ -8.98989899,  -8.98989899,   1.01010101],\n",
       "       [ -8.78787879,  -8.78787879,   1.21212121],\n",
       "       [ -8.58585859,  -8.58585859,   1.41414141],\n",
       "       [ -8.38383838,  -8.38383838,   1.61616162],\n",
       "       [ -8.18181818,  -8.18181818,   1.81818182],\n",
       "       [ -7.97979798,  -7.97979798,   2.02020202],\n",
       "       [ -7.77777778,  -7.77777778,   2.22222222],\n",
       "       [ -7.57575758,  -7.57575758,   2.42424242],\n",
       "       [ -7.37373737,  -7.37373737,   2.62626263],\n",
       "       [ -7.17171717,  -7.17171717,   2.82828283],\n",
       "       [ -6.96969697,  -6.96969697,   3.03030303],\n",
       "       [ -6.76767677,  -6.76767677,   3.23232323],\n",
       "       [ -6.56565657,  -6.56565657,   3.43434343],\n",
       "       [ -6.36363636,  -6.36363636,   3.63636364],\n",
       "       [ -6.16161616,  -6.16161616,   3.83838384],\n",
       "       [ -5.95959596,  -5.95959596,   4.04040404],\n",
       "       [ -5.75757576,  -5.75757576,   4.24242424],\n",
       "       [ -5.55555556,  -5.55555556,   4.44444444],\n",
       "       [ -5.35353535,  -5.35353535,   4.64646465],\n",
       "       [ -5.15151515,  -5.15151515,   4.84848485],\n",
       "       [ -4.94949495,  -4.94949495,   5.05050505],\n",
       "       [ -4.74747475,  -4.74747475,   5.25252525],\n",
       "       [ -4.54545455,  -4.54545455,   5.45454545],\n",
       "       [ -4.34343434,  -4.34343434,   5.65656566],\n",
       "       [ -4.14141414,  -4.14141414,   5.85858586],\n",
       "       [ -3.93939394,  -3.93939394,   6.06060606],\n",
       "       [ -3.73737374,  -3.73737374,   6.26262626],\n",
       "       [ -3.53535354,  -3.53535354,   6.46464646],\n",
       "       [ -3.33333333,  -3.33333333,   6.66666667],\n",
       "       [ -3.13131313,  -3.13131313,   6.86868687],\n",
       "       [ -2.92929293,  -2.92929293,   7.07070707],\n",
       "       [ -2.72727273,  -2.72727273,   7.27272727],\n",
       "       [ -2.52525253,  -2.52525253,   7.47474747],\n",
       "       [ -2.32323232,  -2.32323232,   7.67676768],\n",
       "       [ -2.12121212,  -2.12121212,   7.87878788],\n",
       "       [ -1.91919192,  -1.91919192,   8.08080808],\n",
       "       [ -1.71717172,  -1.71717172,   8.28282828],\n",
       "       [ -1.51515152,  -1.51515152,   8.48484848],\n",
       "       [ -1.31313131,  -1.31313131,   8.68686869],\n",
       "       [ -1.11111111,  -1.11111111,   8.88888889],\n",
       "       [ -0.90909091,  -0.90909091,   9.09090909],\n",
       "       [ -0.70707071,  -0.70707071,   9.29292929],\n",
       "       [ -0.50505051,  -0.50505051,   9.49494949],\n",
       "       [ -0.3030303 ,  -0.3030303 ,   9.6969697 ],\n",
       "       [ -0.1010101 ,  -0.1010101 ,   9.8989899 ],\n",
       "       [  0.1010101 ,   0.1010101 ,  10.1010101 ],\n",
       "       [  0.3030303 ,   0.3030303 ,  10.3030303 ],\n",
       "       [  0.50505051,   0.50505051,  10.50505051],\n",
       "       [  0.70707071,   0.70707071,  10.70707071],\n",
       "       [  0.90909091,   0.90909091,  10.90909091],\n",
       "       [  1.11111111,   1.11111111,  11.11111111],\n",
       "       [  1.31313131,   1.31313131,  11.31313131],\n",
       "       [  1.51515152,   1.51515152,  11.51515152],\n",
       "       [  1.71717172,   1.71717172,  11.71717172],\n",
       "       [  1.91919192,   1.91919192,  11.91919192],\n",
       "       [  2.12121212,   2.12121212,  12.12121212],\n",
       "       [  2.32323232,   2.32323232,  12.32323232],\n",
       "       [  2.52525253,   2.52525253,  12.52525253],\n",
       "       [  2.72727273,   2.72727273,  12.72727273],\n",
       "       [  2.92929293,   2.92929293,  12.92929293],\n",
       "       [  3.13131313,   3.13131313,  13.13131313],\n",
       "       [  3.33333333,   3.33333333,  13.33333333],\n",
       "       [  3.53535354,   3.53535354,  13.53535354],\n",
       "       [  3.73737374,   3.73737374,  13.73737374],\n",
       "       [  3.93939394,   3.93939394,  13.93939394],\n",
       "       [  4.14141414,   4.14141414,  14.14141414],\n",
       "       [  4.34343434,   4.34343434,  14.34343434],\n",
       "       [  4.54545455,   4.54545455,  14.54545455],\n",
       "       [  4.74747475,   4.74747475,  14.74747475],\n",
       "       [  4.94949495,   4.94949495,  14.94949495],\n",
       "       [  5.15151515,   5.15151515,  15.15151515],\n",
       "       [  5.35353535,   5.35353535,  15.35353535],\n",
       "       [  5.55555556,   5.55555556,  15.55555556],\n",
       "       [  5.75757576,   5.75757576,  15.75757576],\n",
       "       [  5.95959596,   5.95959596,  15.95959596],\n",
       "       [  6.16161616,   6.16161616,  16.16161616],\n",
       "       [  6.36363636,   6.36363636,  16.36363636],\n",
       "       [  6.56565657,   6.56565657,  16.56565657],\n",
       "       [  6.76767677,   6.76767677,  16.76767677],\n",
       "       [  6.96969697,   6.96969697,  16.96969697],\n",
       "       [  7.17171717,   7.17171717,  17.17171717],\n",
       "       [  7.37373737,   7.37373737,  17.37373737],\n",
       "       [  7.57575758,   7.57575758,  17.57575758],\n",
       "       [  7.77777778,   7.77777778,  17.77777778],\n",
       "       [  7.97979798,   7.97979798,  17.97979798],\n",
       "       [  8.18181818,   8.18181818,  18.18181818],\n",
       "       [  8.38383838,   8.38383838,  18.38383838],\n",
       "       [  8.58585859,   8.58585859,  18.58585859],\n",
       "       [  8.78787879,   8.78787879,  18.78787879],\n",
       "       [  8.98989899,   8.98989899,  18.98989899],\n",
       "       [  9.19191919,   9.19191919,  19.19191919],\n",
       "       [  9.39393939,   9.39393939,  19.39393939],\n",
       "       [  9.5959596 ,   9.5959596 ,  19.5959596 ],\n",
       "       [  9.7979798 ,   9.7979798 ,  19.7979798 ],\n",
       "       [ 10.        ,  10.        ,  20.        ]])"
      ]
     },
     "execution_count": 15,
     "metadata": {},
     "output_type": "execute_result"
    }
   ],
   "source": [
    "vol\n",
    "    \n",
    "    \n",
    "    "
   ]
  },
  {
   "cell_type": "code",
   "execution_count": null,
   "metadata": {},
   "outputs": [],
   "source": []
  }
 ],
 "metadata": {
  "kernelspec": {
   "display_name": "Python 3",
   "language": "python",
   "name": "python3"
  },
  "language_info": {
   "codemirror_mode": {
    "name": "ipython",
    "version": 3
   },
   "file_extension": ".py",
   "mimetype": "text/x-python",
   "name": "python",
   "nbconvert_exporter": "python",
   "pygments_lexer": "ipython3",
   "version": "3.7.4"
  }
 },
 "nbformat": 4,
 "nbformat_minor": 4
}
