{
 "cells": [
  {
   "cell_type": "code",
   "execution_count": 1,
   "metadata": {},
   "outputs": [],
   "source": [
    "###########################################\n",
    "#   Setup standard analysis environment   # \n",
    "###########################################\n",
    "\n",
    "import os, sys\n",
    "from math import *\n",
    "\n",
    "import pandas\n",
    "import numpy as np\n",
    "np.set_printoptions(threshold=18)#np.inf)\n",
    "\n",
    "import scipy\n",
    "import scipy.integrate as spi\n",
    "from scipy import stats\n",
    "\n",
    "# Plotting modules\n",
    "import matplotlib.pyplot as plt\n",
    "from matplotlib import style\n",
    "style.use('seaborn-whitegrid')\n",
    "%matplotlib inline\n",
    "\n",
    "# LaTeX rendering in plots \n",
    "#from matplotlib import rc\n",
    "#rc('text', usetex=True)\n",
    "#rc('font',**{'family':'sans-serif','sans-serif':['Helvetica']})"
   ]
  },
  {
   "cell_type": "code",
   "execution_count": 2,
   "metadata": {},
   "outputs": [],
   "source": [
    "# function to calculate acceleration due to magnetic force\n",
    "\n",
    "def a_mag(q,m,v,b):\n",
    "  c = q/m\n",
    "  f = c * np.cross(v,b)\n",
    "  return f  "
   ]
  },
  {
   "cell_type": "code",
   "execution_count": 3,
   "metadata": {},
   "outputs": [],
   "source": [
    "# configure stepping parameters\n",
    "\n",
    "n_max = 1\n",
    "n_step = 1e-6\n",
    "steps = int(n_max/n_step)\n",
    "\n",
    "# set up time array\n",
    "t = np.linspace(0, n_max, num=steps, endpoint=True) # [s]\n",
    "\n",
    "# initialize s(t) and v(t) arrays\n",
    "s = np.empty([steps,3]) # [m]\n",
    "v = np.empty([steps,3]) # [m]\n",
    "a = np.empty([steps,3]) # [m]\n",
    "\n",
    "# values, initial conditions\n",
    "q = 1.602e-19 # [C]\n",
    "m = 1.672e-27 # [kg]\n",
    "b = np.array([0,0,-1e-6]) # [T]\n",
    "\n",
    "s[0] = [0,0,0]\n",
    "v[0] = [2,0,0]\n",
    "a[0] = a_mag(q,m,v[0],b)"
   ]
  },
  {
   "cell_type": "code",
   "execution_count": 4,
   "metadata": {},
   "outputs": [],
   "source": [
    "for i in range(1,t.size):\n",
    "  s[i] = s[i-1] + v[i-1]*n_step\n",
    "  \n",
    "  v[i] = v[i-1] + a[i-1]*n_step\n",
    "  \n",
    "  a[i] = a_mag(q,m,v[i-1],b)"
   ]
  },
  {
   "cell_type": "code",
   "execution_count": 25,
   "metadata": {},
   "outputs": [
    {
     "data": {
      "text/plain": [
       "Text(0, 0.5, 'y')"
      ]
     },
     "execution_count": 25,
     "metadata": {},
     "output_type": "execute_result"
    },
    {
     "data": {
      "image/png": "[encoded data removed]",
      "text/plain": [
       "<Figure size 432x288 with 1 Axes>"
      ]
     },
     "metadata": {
      "needs_background": "light"
     },
     "output_type": "display_data"
    }
   ],
   "source": [
    "ax = plt.gca()\n",
    "ax.set_aspect(1)\n",
    "plt.plot(s[:,0],s[:,1],'g')\n",
    "plt.title('init pos = (0,0)')\n",
    "plt.xlabel('x')\n",
    "plt.ylabel('y')"
   ]
  },
  {
   "cell_type": "code",
   "execution_count": null,
   "metadata": {},
   "outputs": [],
   "source": []
  }
 ],
 "metadata": {
  "kernelspec": {
   "display_name": "Python 3",
   "language": "python",
   "name": "python3"
  },
  "language_info": {
   "codemirror_mode": {
    "name": "ipython",
    "version": 3
   },
   "file_extension": ".py",
   "mimetype": "text/x-python",
   "name": "python",
   "nbconvert_exporter": "python",
   "pygments_lexer": "ipython3",
   "version": "3.7.4"
  }
 },
 "nbformat": 4,
 "nbformat_minor": 4
}
