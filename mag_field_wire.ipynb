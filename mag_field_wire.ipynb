{
 "cells": [
  {
   "cell_type": "code",
   "execution_count": 3,
   "metadata": {},
   "outputs": [],
   "source": [
    "###########################################\n",
    "#   Setup standard analysis environment   # \n",
    "###########################################\n",
    "\n",
    "import os, sys\n",
    "from math import *\n",
    "\n",
    "import pandas\n",
    "\n",
    "import numpy as np\n",
    "np.set_printoptions(threshold=18)#np.inf)\n",
    "\n",
    "import scipy\n",
    "from scipy.constants import *\n",
    "import scipy.integrate as spi\n",
    "from scipy import stats\n",
    "\n",
    "# Plotting modules\n",
    "import matplotlib.pyplot as plt\n",
    "from matplotlib import style\n",
    "style.use('seaborn-whitegrid')\n",
    "%matplotlib inline\n",
    "\n",
    "# LaTeX rendering in plots \n",
    "#from matplotlib import rc\n",
    "#rc('text', usetex=True)\n",
    "#rc('font',**{'family':'sans-serif','sans-serif':['Helvetica']})"
   ]
  },
  {
   "cell_type": "code",
   "execution_count": 4,
   "metadata": {},
   "outputs": [],
   "source": [
    "# Biot-Savart Law\n",
    "def dB(curr, r_hat, r_mag):\n",
    "  return (mu_0/(4*pi))*(np.cross(curr,r_hat)/(r_mag**2))"
   ]
  },
  {
   "cell_type": "code",
   "execution_count": 6,
   "metadata": {},
   "outputs": [],
   "source": [
    "# knowns\n",
    "curr = [1,0,0] \n",
    "radii = np.linspace(0,1,num=50)\n",
    "\n",
    "# segment of wire with current \n",
    "wire_len = 5*radii[-1]\n",
    "n_steps = 10\n",
    "dL = wire_len/n_steps\n",
    "\n",
    "wire_x = np.linspace(-(wire_len/2), (wire_len/2), num=n_steps, endpoint=True)\n",
    "wire_y = np.linspace(0, 0, num=n_steps, endpoint=True)\n",
    "wire_z = np.linspace(0, 0, num=n_steps, endpoint=True)\n",
    "\n",
    "wire = np.vstack([wire_x, wire_y, wire_z]).T"
   ]
  },
  {
   "cell_type": "code",
   "execution_count": 4,
   "metadata": {},
   "outputs": [
    {
     "name": "stdout",
     "output_type": "stream",
     "text": [
      "3.3885033076990236e-07\n"
     ]
    }
   ],
   "source": [
    "B_rad = np.empty([n_steps,3]) # Total B at a point\n",
    "\n",
    "for j in range(0,radii.shape):\n",
    "  \n",
    "  poi = np.array([radii[j], $THETA, 0])\n",
    "  \n",
    "  B_i = np.empty([n_steps,3]) # B-contributions per segment of wire\n",
    "  \n",
    "  for theta in (0,2*pi):  \n",
    "  \n",
    "    for i in range(0,wire.shape[0]):\n",
    "      r = poi - wire[i]\n",
    "      r_mag = np.linalg.norm(r)\n",
    "      r_hat = r/r_mag\n",
    "\n",
    "      B_i[i] = dB(curr, r_hat, r_mag)\n",
    "\n",
    "    \n",
    "      \n",
    "  B_rad = np.sum(B_i)\n",
    "\n",
    "\n",
    "\n",
    "print(B_field)"
   ]
  },
  {
   "cell_type": "code",
   "execution_count": null,
   "metadata": {},
   "outputs": [],
   "source": []
  }
 ],
 "metadata": {
  "kernelspec": {
   "display_name": "Python 3",
   "language": "python",
   "name": "python3"
  },
  "language_info": {
   "codemirror_mode": {
    "name": "ipython",
    "version": 3
   },
   "file_extension": ".py",
   "mimetype": "text/x-python",
   "name": "python",
   "nbconvert_exporter": "python",
   "pygments_lexer": "ipython3",
   "version": "3.7.4"
  }
 },
 "nbformat": 4,
 "nbformat_minor": 4
}
